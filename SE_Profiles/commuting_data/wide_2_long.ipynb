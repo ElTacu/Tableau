{
 "cells": [
  {
   "cell_type": "code",
   "execution_count": 1,
   "metadata": {},
   "outputs": [],
   "source": [
    "import pandas as pd\n",
    "\n",
    "df = pd.read_csv(\"C:/Users/DJimenez/Desktop/visual/james/commuting_data/commute_mode_2019.csv\")"
   ]
  },
  {
   "cell_type": "code",
   "execution_count": 2,
   "metadata": {},
   "outputs": [],
   "source": [
    "c = df.columns.tolist()"
   ]
  },
  {
   "cell_type": "code",
   "execution_count": 3,
   "metadata": {},
   "outputs": [
    {
     "data": {
      "text/plain": [
       "['Bernalillo County, New Mexico',\n",
       " 'Sandoval County, New Mexico',\n",
       " 'Torrance County, New Mexico',\n",
       " 'Valencia County, New Mexico',\n",
       " 'Albuquerque, NM Metro Area',\n",
       " 'United States']"
      ]
     },
     "execution_count": 3,
     "metadata": {},
     "output_type": "execute_result"
    }
   ],
   "source": [
    "c[1:]"
   ]
  },
  {
   "cell_type": "code",
   "execution_count": 4,
   "metadata": {},
   "outputs": [
    {
     "data": {
      "text/plain": [
       "'Means of Transportation to Work (2019)'"
      ]
     },
     "execution_count": 4,
     "metadata": {},
     "output_type": "execute_result"
    }
   ],
   "source": [
    "c[0]"
   ]
  },
  {
   "cell_type": "code",
   "execution_count": 5,
   "metadata": {},
   "outputs": [
    {
     "data": {
      "text/html": [
       "<div>\n",
       "<style scoped>\n",
       "    .dataframe tbody tr th:only-of-type {\n",
       "        vertical-align: middle;\n",
       "    }\n",
       "\n",
       "    .dataframe tbody tr th {\n",
       "        vertical-align: top;\n",
       "    }\n",
       "\n",
       "    .dataframe thead th {\n",
       "        text-align: right;\n",
       "    }\n",
       "</style>\n",
       "<table border=\"1\" class=\"dataframe\">\n",
       "  <thead>\n",
       "    <tr style=\"text-align: right;\">\n",
       "      <th></th>\n",
       "      <th>Means of Transportation to Work (2019)</th>\n",
       "      <th>Bernalillo County, New Mexico</th>\n",
       "      <th>Sandoval County, New Mexico</th>\n",
       "      <th>Torrance County, New Mexico</th>\n",
       "      <th>Valencia County, New Mexico</th>\n",
       "      <th>Albuquerque, NM Metro Area</th>\n",
       "      <th>United States</th>\n",
       "    </tr>\n",
       "  </thead>\n",
       "  <tbody>\n",
       "    <tr>\n",
       "      <th>0</th>\n",
       "      <td>Drove alone</td>\n",
       "      <td>0.808</td>\n",
       "      <td>0.787</td>\n",
       "      <td>0.790</td>\n",
       "      <td>0.834</td>\n",
       "      <td>0.806</td>\n",
       "      <td>0.763</td>\n",
       "    </tr>\n",
       "    <tr>\n",
       "      <th>1</th>\n",
       "      <td>Carpooled</td>\n",
       "      <td>0.091</td>\n",
       "      <td>0.128</td>\n",
       "      <td>0.064</td>\n",
       "      <td>0.087</td>\n",
       "      <td>0.096</td>\n",
       "      <td>0.090</td>\n",
       "    </tr>\n",
       "    <tr>\n",
       "      <th>2</th>\n",
       "      <td>Public transportation (excluding taxicab)</td>\n",
       "      <td>0.017</td>\n",
       "      <td>0.009</td>\n",
       "      <td>0.000</td>\n",
       "      <td>0.010</td>\n",
       "      <td>0.015</td>\n",
       "      <td>0.050</td>\n",
       "    </tr>\n",
       "    <tr>\n",
       "      <th>3</th>\n",
       "      <td>Walked</td>\n",
       "      <td>0.018</td>\n",
       "      <td>0.015</td>\n",
       "      <td>0.019</td>\n",
       "      <td>0.008</td>\n",
       "      <td>0.017</td>\n",
       "      <td>0.027</td>\n",
       "    </tr>\n",
       "    <tr>\n",
       "      <th>4</th>\n",
       "      <td>Bicycle</td>\n",
       "      <td>0.010</td>\n",
       "      <td>0.001</td>\n",
       "      <td>0.000</td>\n",
       "      <td>0.000</td>\n",
       "      <td>0.008</td>\n",
       "      <td>0.005</td>\n",
       "    </tr>\n",
       "    <tr>\n",
       "      <th>5</th>\n",
       "      <td>Taxicab, motorcycle, or other means</td>\n",
       "      <td>0.010</td>\n",
       "      <td>0.008</td>\n",
       "      <td>0.010</td>\n",
       "      <td>0.018</td>\n",
       "      <td>0.011</td>\n",
       "      <td>0.013</td>\n",
       "    </tr>\n",
       "    <tr>\n",
       "      <th>6</th>\n",
       "      <td>Worked from home</td>\n",
       "      <td>0.047</td>\n",
       "      <td>0.052</td>\n",
       "      <td>0.116</td>\n",
       "      <td>0.043</td>\n",
       "      <td>0.048</td>\n",
       "      <td>0.052</td>\n",
       "    </tr>\n",
       "  </tbody>\n",
       "</table>\n",
       "</div>"
      ],
      "text/plain": [
       "      Means of Transportation to Work (2019)  Bernalillo County, New Mexico  \\\n",
       "0                                Drove alone                          0.808   \n",
       "1                                  Carpooled                          0.091   \n",
       "2  Public transportation (excluding taxicab)                          0.017   \n",
       "3                                     Walked                          0.018   \n",
       "4                                    Bicycle                          0.010   \n",
       "5        Taxicab, motorcycle, or other means                          0.010   \n",
       "6                           Worked from home                          0.047   \n",
       "\n",
       "   Sandoval County, New Mexico  Torrance County, New Mexico  \\\n",
       "0                        0.787                        0.790   \n",
       "1                        0.128                        0.064   \n",
       "2                        0.009                        0.000   \n",
       "3                        0.015                        0.019   \n",
       "4                        0.001                        0.000   \n",
       "5                        0.008                        0.010   \n",
       "6                        0.052                        0.116   \n",
       "\n",
       "   Valencia County, New Mexico  Albuquerque, NM Metro Area  United States  \n",
       "0                        0.834                       0.806          0.763  \n",
       "1                        0.087                       0.096          0.090  \n",
       "2                        0.010                       0.015          0.050  \n",
       "3                        0.008                       0.017          0.027  \n",
       "4                        0.000                       0.008          0.005  \n",
       "5                        0.018                       0.011          0.013  \n",
       "6                        0.043                       0.048          0.052  "
      ]
     },
     "execution_count": 5,
     "metadata": {},
     "output_type": "execute_result"
    }
   ],
   "source": [
    "df"
   ]
  },
  {
   "cell_type": "code",
   "execution_count": 6,
   "metadata": {},
   "outputs": [],
   "source": [
    "\n",
    "\n",
    "pd.melt(df, id_vars=c[0], value_vars=c[1:]).to_csv(\"means_transport.csv\")"
   ]
  }
 ],
 "metadata": {
  "kernelspec": {
   "display_name": "Python 2",
   "language": "python",
   "name": "python2"
  },
  "language_info": {
   "codemirror_mode": {
    "name": "ipython",
    "version": 2
   },
   "file_extension": ".py",
   "mimetype": "text/x-python",
   "name": "python",
   "nbconvert_exporter": "python",
   "pygments_lexer": "ipython2",
   "version": "2.7.15"
  }
 },
 "nbformat": 4,
 "nbformat_minor": 2
}
